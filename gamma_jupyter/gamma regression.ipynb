{
 "cells": [
  {
   "cell_type": "markdown",
   "id": "3479ca81-fb0f-44b1-a2f5-b137df8056b3",
   "metadata": {},
   "source": [
    "# Gamma Regression Model "
   ]
  },
  {
   "cell_type": "code",
   "execution_count": 1,
   "id": "0f569ccc",
   "metadata": {},
   "outputs": [
    {
     "name": "stderr",
     "output_type": "stream",
     "text": [
      "WARNING (pytensor.configdefaults): g++ not available, if using conda: `conda install m2w64-toolchain`\n",
      "WARNING (pytensor.configdefaults): g++ not detected!  PyTensor will be unable to compile C-implementations and will default to Python. Performance may be severely degraded. To remove this warning, set PyTensor flags cxx to an empty string.\n",
      "WARNING (pytensor.tensor.blas): Using NumPy C-API based implementation for BLAS functions.\n"
     ]
    }
   ],
   "source": [
    "import pandas as pd\n",
    "import statsmodels.api as sm\n",
    "import statsmodels.formula.api as smf\n",
    "import matplotlib.pyplot as plt\n",
    "import seaborn as sns\n",
    "import bambi as bmb"
   ]
  },
  {
   "cell_type": "code",
   "execution_count": 3,
   "id": "ea990699",
   "metadata": {},
   "outputs": [],
   "source": [
    "data = bmb.load_data(\"carclaims\")"
   ]
  },
  {
   "cell_type": "code",
   "execution_count": 4,
   "id": "1b92f3d8-c905-4bc8-96e8-4e9e8e496aba",
   "metadata": {},
   "outputs": [],
   "source": [
    "# Filter for claims where claimcst0 > 0\n",
    "claims_data = data[data[\"claimcst0\"] > 0].copy()"
   ]
  },
  {
   "cell_type": "code",
   "execution_count": 5,
   "id": "11372f7f-650d-4e3c-bcd6-18920e503cda",
   "metadata": {},
   "outputs": [],
   "source": [
    "claims_data['gender'] = claims_data['gender'].astype('category')\n",
    "claims_data['area'] = claims_data['area'].astype('category')\n",
    "claims_data['agecat'] = claims_data['agecat'].astype('category')"
   ]
  },
  {
   "cell_type": "code",
   "execution_count": 6,
   "id": "9ad5d65a-ca15-4882-9b13-77c979c834ce",
   "metadata": {},
   "outputs": [],
   "source": [
    "formula = \"claimcst0 ~ veh_value + veh_age + C(gender) + C(area) + C(agecat)\""
   ]
  },
  {
   "cell_type": "code",
   "execution_count": 7,
   "id": "34bb4eca-1662-4e42-a3d5-21b01dca7075",
   "metadata": {},
   "outputs": [
    {
     "name": "stderr",
     "output_type": "stream",
     "text": [
      "C:\\Users\\user\\.conda\\envs\\tf\\lib\\site-packages\\statsmodels\\genmod\\families\\links.py:13: FutureWarning: The log link alias is deprecated. Use Log instead. The log link alias will be removed after the 0.15.0 release.\n",
      "  warnings.warn(\n"
     ]
    }
   ],
   "source": [
    "model = smf.glm(formula=formula, data=claims_data, family=sm.families.Gamma(link=sm.families.links.log()))\n",
    "\n",
    "# Fit the model\n",
    "results = model.fit()"
   ]
  },
  {
   "cell_type": "code",
   "execution_count": 8,
   "id": "4e85bacf-4996-4b42-a022-70c48cf4c02b",
   "metadata": {},
   "outputs": [
    {
     "name": "stdout",
     "output_type": "stream",
     "text": [
      "                 Generalized Linear Model Regression Results                  \n",
      "==============================================================================\n",
      "Dep. Variable:              claimcst0   No. Observations:                 4624\n",
      "Model:                            GLM   Df Residuals:                     4610\n",
      "Model Family:                   Gamma   Df Model:                           13\n",
      "Link Function:                    log   Scale:                          2.9597\n",
      "Method:                          IRLS   Log-Likelihood:                -40459.\n",
      "Date:                Wed, 23 Jul 2025   Deviance:                       7223.5\n",
      "Time:                        02:20:37   Pearson chi2:                 1.36e+04\n",
      "No. Iterations:                    20   Pseudo R-squ. (CS):            0.01136\n",
      "Covariance Type:            nonrobust                                         \n",
      "==================================================================================\n",
      "                     coef    std err          z      P>|z|      [0.025      0.975]\n",
      "----------------------------------------------------------------------------------\n",
      "Intercept          7.6001      0.138     55.180      0.000       7.330       7.870\n",
      "C(gender)[T.M]     0.1620      0.052      3.104      0.002       0.060       0.264\n",
      "C(area)[T.B]      -0.0302      0.076     -0.396      0.692      -0.179       0.119\n",
      "C(area)[T.C]       0.0669      0.070      0.962      0.336      -0.069       0.203\n",
      "C(area)[T.D]      -0.0258      0.093     -0.276      0.782      -0.209       0.157\n",
      "C(area)[T.E]       0.1479      0.102      1.447      0.148      -0.052       0.348\n",
      "C(area)[T.F]       0.3701      0.118      3.143      0.002       0.139       0.601\n",
      "C(agecat)[T.2]    -0.1909      0.096     -1.990      0.047      -0.379      -0.003\n",
      "C(agecat)[T.3]    -0.2907      0.093     -3.118      0.002      -0.473      -0.108\n",
      "C(agecat)[T.4]    -0.2828      0.093     -3.033      0.002      -0.466      -0.100\n",
      "C(agecat)[T.5]    -0.4045      0.104     -3.882      0.000      -0.609      -0.200\n",
      "C(agecat)[T.6]    -0.3273      0.119     -2.751      0.006      -0.560      -0.094\n",
      "veh_value         -0.0018      0.027     -0.067      0.947      -0.055       0.051\n",
      "veh_age            0.0512      0.029      1.753      0.080      -0.006       0.109\n",
      "==================================================================================\n"
     ]
    }
   ],
   "source": [
    "print(results.summary())"
   ]
  },
  {
   "cell_type": "markdown",
   "id": "2a84321e-36da-409e-b280-62ee947264c8",
   "metadata": {},
   "source": [
    "The gamma regression model was fitted to the Australian insurance claims dataset, specifically focusing on `claimcst0` (claim amount) for claims greater than zero. The model used a log link function, which is standard for gamma regression, implying that the effect of predictors is multiplicative on the expected claim amount."
   ]
  },
  {
   "cell_type": "markdown",
   "id": "fa8b334d-3685-4151-b8a9-c6363e0e2ca8",
   "metadata": {},
   "source": [
    "**Intercept (7.6001):** This is the expected log of the claim amount when all other predictors are at their reference level (e.g., female gender, reference area, age category 1, and zero vehicle value and age). To get the actual expected claim amount, you would exponentiate this value (e.g., `exp(7.6001)`).\n",
    "\n",
    "*   **C(gender)[T.M] (0.1620):** This coefficient is positive and statistically significant (p-value = 0.002). This suggests that, holding all other variables constant, male policyholders (compared to the reference gender, likely female) have an expected claim amount that is `exp(0.1620)` times higher. This indicates that male policyholders are associated with higher claim costs.\n",
    "\n",
    "*   **C(area):** The coefficients for different areas (B, C, D, E, F) represent the difference in the expected log claim amount compared to the reference area (likely Area A). Only `C(area)[T.F]` (0.3701) is statistically significant (p-value = 0.002), indicating that policyholders in Area F have significantly higher expected claim amounts compared to the reference area, all else being equal.\n",
    "\n",
    "*   **C(agecat):** The coefficients for age categories 2 through 6 are all negative and statistically significant (p-values < 0.05). This indicates that policyholders in age categories 2, 3, 4, 5, and 6 have significantly lower expected claim amounts compared to the reference age category (likely age category 1), holding other variables constant. The negative coefficients suggest that older age categories (or at least age categories 2-6 compared to 1) are associated with lower claim costs.\n",
    "\n",
    "*   **veh_value (-0.0018):** This coefficient is very close to zero and not statistically significant (p-value = 0.947). This suggests that vehicle value does not have a significant linear relationship with the expected claim amount in this model.\n",
    "\n",
    "*   **veh_age (0.0512):** This coefficient is positive but only marginally statistically significant (p-value = 0.080). This suggests a weak positive relationship, where older vehicles might be associated with slightly higher expected claim amounts, though this finding is not as robust as the effects of gender and age category.\n"
   ]
  },
  {
   "cell_type": "markdown",
   "id": "cfe24835-4754-4513-9a94-eb6a1c43b7b6",
   "metadata": {},
   "source": [
    "## Conclusion\n",
    "\n",
    "The gamma regression model identifies gender, certain geographical areas, and age categories as statistically significant predictors of insurance claim amounts. Male policyholders and those in Area F are associated with higher claim costs, while policyholders in age categories 2-6 (compared to age category 1) are associated with lower claim costs. Vehicle value does not appear to be a significant predictor, and vehicle age has a weak positive association. The low pseudo R-squared value and the overdispersion suggest that while the model identifies some significant relationships, a substantial portion of the variability in claim amounts remains unexplained, indicating the complexity of factors influencing insurance claims. Further analysis with additional variables or more complex model structures might be beneficial to improve the predictive power."
   ]
  },
  {
   "cell_type": "code",
   "execution_count": null,
   "id": "e974d8f8-c345-4ae8-9446-deb6eae1bc30",
   "metadata": {},
   "outputs": [],
   "source": []
  }
 ],
 "metadata": {
  "kernelspec": {
   "display_name": "Python 3 (ipykernel)",
   "language": "python",
   "name": "python3"
  },
  "language_info": {
   "codemirror_mode": {
    "name": "ipython",
    "version": 3
   },
   "file_extension": ".py",
   "mimetype": "text/x-python",
   "name": "python",
   "nbconvert_exporter": "python",
   "pygments_lexer": "ipython3",
   "version": "3.9.21"
  }
 },
 "nbformat": 4,
 "nbformat_minor": 5
}
